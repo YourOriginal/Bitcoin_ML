{
 "cells": [
  {
   "cell_type": "markdown",
   "metadata": {},
   "source": [
    "# Clustering Crypto"
   ]
  },
  {
   "cell_type": "code",
   "execution_count": 24,
   "metadata": {},
   "outputs": [],
   "source": [
    "# Initial imports\n",
    "import pandas as pd\n",
    "import hvplot.pandas\n",
    "from path import Path\n",
    "import plotly.express as px\n",
    "from sklearn.preprocessing import StandardScaler, MinMaxScaler\n",
    "from sklearn.decomposition import PCA\n",
    "from sklearn.cluster import KMeans\n"
   ]
  },
  {
   "cell_type": "markdown",
   "metadata": {},
   "source": [
    "### Deliverable 1: Preprocessing the Data for PCA"
   ]
  },
  {
   "cell_type": "code",
   "execution_count": 25,
   "metadata": {},
   "outputs": [
    {
     "data": {
      "text/plain": [
       "Unnamed: 0          object\n",
       "CoinName            object\n",
       "Algorithm           object\n",
       "IsTrading             bool\n",
       "ProofType           object\n",
       "TotalCoinsMined    float64\n",
       "TotalCoinSupply     object\n",
       "dtype: object"
      ]
     },
     "execution_count": 25,
     "metadata": {},
     "output_type": "execute_result"
    }
   ],
   "source": [
    "# Load the crypto_data.csv dataset.\n",
    "file = 'crypto_data.csv'\n",
    "df = pd.read_csv(file)\n",
    "df.dtypes\n"
   ]
  },
  {
   "cell_type": "code",
   "execution_count": 26,
   "metadata": {},
   "outputs": [],
   "source": [
    "# Keep all the cryptocurrencies that are being traded.\n",
    "df = df[df['IsTrading'] == True]\n"
   ]
  },
  {
   "cell_type": "code",
   "execution_count": 27,
   "metadata": {},
   "outputs": [],
   "source": [
    "# Keep all the cryptocurrencies that have a working algorithm.\n",
    "df['Algorithm'] = df['Algorithm'].dropna()\n"
   ]
  },
  {
   "cell_type": "code",
   "execution_count": 28,
   "metadata": {},
   "outputs": [],
   "source": [
    "# Remove the \"IsTrading\" column. \n",
    "df = df.drop(columns = 'IsTrading')"
   ]
  },
  {
   "cell_type": "code",
   "execution_count": 29,
   "metadata": {},
   "outputs": [
    {
     "data": {
      "text/html": [
       "<div>\n",
       "<style scoped>\n",
       "    .dataframe tbody tr th:only-of-type {\n",
       "        vertical-align: middle;\n",
       "    }\n",
       "\n",
       "    .dataframe tbody tr th {\n",
       "        vertical-align: top;\n",
       "    }\n",
       "\n",
       "    .dataframe thead th {\n",
       "        text-align: right;\n",
       "    }\n",
       "</style>\n",
       "<table border=\"1\" class=\"dataframe\">\n",
       "  <thead>\n",
       "    <tr style=\"text-align: right;\">\n",
       "      <th></th>\n",
       "      <th>Unnamed: 0</th>\n",
       "      <th>CoinName</th>\n",
       "      <th>Algorithm</th>\n",
       "      <th>ProofType</th>\n",
       "      <th>TotalCoinsMined</th>\n",
       "      <th>TotalCoinSupply</th>\n",
       "    </tr>\n",
       "  </thead>\n",
       "  <tbody>\n",
       "    <tr>\n",
       "      <th>0</th>\n",
       "      <td>42</td>\n",
       "      <td>42 Coin</td>\n",
       "      <td>Scrypt</td>\n",
       "      <td>PoW/PoS</td>\n",
       "      <td>4.199995e+01</td>\n",
       "      <td>42</td>\n",
       "    </tr>\n",
       "    <tr>\n",
       "      <th>2</th>\n",
       "      <td>404</td>\n",
       "      <td>404Coin</td>\n",
       "      <td>Scrypt</td>\n",
       "      <td>PoW/PoS</td>\n",
       "      <td>1.055185e+09</td>\n",
       "      <td>532000000</td>\n",
       "    </tr>\n",
       "    <tr>\n",
       "      <th>4</th>\n",
       "      <td>808</td>\n",
       "      <td>808</td>\n",
       "      <td>SHA-256</td>\n",
       "      <td>PoW/PoS</td>\n",
       "      <td>0.000000e+00</td>\n",
       "      <td>0</td>\n",
       "    </tr>\n",
       "    <tr>\n",
       "      <th>5</th>\n",
       "      <td>1337</td>\n",
       "      <td>EliteCoin</td>\n",
       "      <td>X13</td>\n",
       "      <td>PoW/PoS</td>\n",
       "      <td>2.927942e+10</td>\n",
       "      <td>314159265359</td>\n",
       "    </tr>\n",
       "    <tr>\n",
       "      <th>7</th>\n",
       "      <td>BTC</td>\n",
       "      <td>Bitcoin</td>\n",
       "      <td>SHA-256</td>\n",
       "      <td>PoW</td>\n",
       "      <td>1.792718e+07</td>\n",
       "      <td>21000000</td>\n",
       "    </tr>\n",
       "  </tbody>\n",
       "</table>\n",
       "</div>"
      ],
      "text/plain": [
       "  Unnamed: 0   CoinName Algorithm ProofType  TotalCoinsMined TotalCoinSupply\n",
       "0         42    42 Coin    Scrypt   PoW/PoS     4.199995e+01              42\n",
       "2        404    404Coin    Scrypt   PoW/PoS     1.055185e+09       532000000\n",
       "4        808        808   SHA-256   PoW/PoS     0.000000e+00               0\n",
       "5       1337  EliteCoin       X13   PoW/PoS     2.927942e+10    314159265359\n",
       "7        BTC    Bitcoin   SHA-256       PoW     1.792718e+07        21000000"
      ]
     },
     "execution_count": 29,
     "metadata": {},
     "output_type": "execute_result"
    }
   ],
   "source": [
    "# Remove rows that have at least 1 null value.\n",
    "df_nona = df.dropna()\n",
    "df_nona.head()"
   ]
  },
  {
   "cell_type": "code",
   "execution_count": 30,
   "metadata": {},
   "outputs": [
    {
     "data": {
      "text/html": [
       "<div>\n",
       "<style scoped>\n",
       "    .dataframe tbody tr th:only-of-type {\n",
       "        vertical-align: middle;\n",
       "    }\n",
       "\n",
       "    .dataframe tbody tr th {\n",
       "        vertical-align: top;\n",
       "    }\n",
       "\n",
       "    .dataframe thead th {\n",
       "        text-align: right;\n",
       "    }\n",
       "</style>\n",
       "<table border=\"1\" class=\"dataframe\">\n",
       "  <thead>\n",
       "    <tr style=\"text-align: right;\">\n",
       "      <th></th>\n",
       "      <th>Unnamed: 0</th>\n",
       "      <th>CoinName</th>\n",
       "      <th>Algorithm</th>\n",
       "      <th>ProofType</th>\n",
       "      <th>TotalCoinsMined</th>\n",
       "      <th>TotalCoinSupply</th>\n",
       "    </tr>\n",
       "  </thead>\n",
       "  <tbody>\n",
       "    <tr>\n",
       "      <th>0</th>\n",
       "      <td>42</td>\n",
       "      <td>42 Coin</td>\n",
       "      <td>Scrypt</td>\n",
       "      <td>PoW/PoS</td>\n",
       "      <td>4.199995e+01</td>\n",
       "      <td>42</td>\n",
       "    </tr>\n",
       "    <tr>\n",
       "      <th>2</th>\n",
       "      <td>404</td>\n",
       "      <td>404Coin</td>\n",
       "      <td>Scrypt</td>\n",
       "      <td>PoW/PoS</td>\n",
       "      <td>1.055185e+09</td>\n",
       "      <td>532000000</td>\n",
       "    </tr>\n",
       "    <tr>\n",
       "      <th>5</th>\n",
       "      <td>1337</td>\n",
       "      <td>EliteCoin</td>\n",
       "      <td>X13</td>\n",
       "      <td>PoW/PoS</td>\n",
       "      <td>2.927942e+10</td>\n",
       "      <td>314159265359</td>\n",
       "    </tr>\n",
       "    <tr>\n",
       "      <th>7</th>\n",
       "      <td>BTC</td>\n",
       "      <td>Bitcoin</td>\n",
       "      <td>SHA-256</td>\n",
       "      <td>PoW</td>\n",
       "      <td>1.792718e+07</td>\n",
       "      <td>21000000</td>\n",
       "    </tr>\n",
       "    <tr>\n",
       "      <th>8</th>\n",
       "      <td>ETH</td>\n",
       "      <td>Ethereum</td>\n",
       "      <td>Ethash</td>\n",
       "      <td>PoW</td>\n",
       "      <td>1.076842e+08</td>\n",
       "      <td>0</td>\n",
       "    </tr>\n",
       "  </tbody>\n",
       "</table>\n",
       "</div>"
      ],
      "text/plain": [
       "  Unnamed: 0   CoinName Algorithm ProofType  TotalCoinsMined TotalCoinSupply\n",
       "0         42    42 Coin    Scrypt   PoW/PoS     4.199995e+01              42\n",
       "2        404    404Coin    Scrypt   PoW/PoS     1.055185e+09       532000000\n",
       "5       1337  EliteCoin       X13   PoW/PoS     2.927942e+10    314159265359\n",
       "7        BTC    Bitcoin   SHA-256       PoW     1.792718e+07        21000000\n",
       "8        ETH   Ethereum    Ethash       PoW     1.076842e+08               0"
      ]
     },
     "execution_count": 30,
     "metadata": {},
     "output_type": "execute_result"
    }
   ],
   "source": [
    "# Keep the rows where coins are mined.\n",
    "df = df[df['TotalCoinsMined'] > 0]\n",
    "df.head()"
   ]
  },
  {
   "cell_type": "code",
   "execution_count": 34,
   "metadata": {},
   "outputs": [
    {
     "data": {
      "text/plain": [
       "array(['42 Coin', '404Coin', 'EliteCoin', 'Bitcoin', 'Ethereum',\n",
       "       'Litecoin', 'Dash', 'Monero', 'Ethereum Classic', 'ZCash',\n",
       "       'Bitshares', 'DigiByte', 'BitcoinDark', 'PayCoin', 'ProsperCoin',\n",
       "       'KoboCoin', 'Spreadcoin', 'Argentum', 'Aurora Coin', 'BlueCoin',\n",
       "       'MyriadCoin', 'MoonCoin', 'ZetaCoin', 'SexCoin', 'Quatloo',\n",
       "       'EnergyCoin', 'QuarkCoin', 'Riecoin', 'Digitalcoin ', 'BitBar',\n",
       "       'Catcoin', 'CryptoBullion', 'CannaCoin', 'CryptCoin', 'CasinoCoin',\n",
       "       'Diamond', 'Verge', 'DevCoin', 'EarthCoin', 'E-Gulden',\n",
       "       'Einsteinium', 'Emerald', 'Exclusive Coin', 'FlutterCoin',\n",
       "       'Franko', 'FeatherCoin', 'GrandCoin', 'GlobalCoin', 'GoldCoin',\n",
       "       'HoboNickels', 'HyperStake', 'Infinite Coin', 'IOCoin', 'IXcoin',\n",
       "       'KrugerCoin', 'LuckyCoin', 'Litebar ', 'MaxCoin', 'MegaCoin',\n",
       "       'MediterraneanCoin', 'MintCoin', 'MinCoin', 'MazaCoin',\n",
       "       'Nautilus Coin', 'NavCoin', 'NobleCoin', 'Namecoin', 'NyanCoin',\n",
       "       'OpalCoin', 'Orbitcoin', 'PotCoin', 'PhoenixCoin', 'Reddcoin',\n",
       "       'RonPaulCoin', 'StableCoin', 'SmartCoin', 'SuperCoin', 'SyncCoin',\n",
       "       'SysCoin', 'TeslaCoin', 'TigerCoin', 'TittieCoin', 'TorCoin',\n",
       "       'TerraCoin', 'UnbreakableCoin', 'Unobtanium', 'UroCoin',\n",
       "       'UnitaryStatus Dollar', 'UltraCoin', 'ViaCoin', 'VeriCoin',\n",
       "       'Vertcoin', 'WorldCoin', 'X11 Coin', 'Crypti', 'JouleCoin',\n",
       "       'StealthCoin', 'ZCC Coin', 'ByteCoin', 'DigitalNote ', 'BurstCoin',\n",
       "       'StorjCoin', 'MonaCoin', 'Neutron', 'FairCoin', 'Gulden',\n",
       "       'RubyCoin', 'PesetaCoin', 'Kore', 'Wild Beast Coin', 'Dnotes',\n",
       "       'Flo', '8BIT Coin', 'Sativa Coin', 'ArtByte', 'Folding Coin',\n",
       "       'Ucoin', 'Unitus', 'CypherPunkCoin', 'OmniCron', 'Vtorrent',\n",
       "       'GreenCoin', 'Cryptonite', 'MasterCoin', 'SoonCoin', '1Credit',\n",
       "       'IslaCoin', 'Nexus', 'MarsCoin ', 'Crypto', 'Anarchists Prime',\n",
       "       'Droidz', 'BowsCoin', 'Squall Coin', 'Song Coin', 'BitZeny',\n",
       "       'Diggits', 'Expanse', 'Paycon', 'Siacoin', 'Emercoin',\n",
       "       'EverGreenCoin', 'MindCoin', 'I0coin', 'Decred', 'Revolution VR',\n",
       "       'HOdlcoin', 'EDRCoin', 'Hitcoin', 'Gamecredits', 'DubaiCoin',\n",
       "       'CarpeDiemCoin', 'PWR Coin', 'BillaryCoin', 'GPU Coin', 'Adzcoin',\n",
       "       'SoilCoin', 'YoCoin', 'SibCoin', 'EuropeCoin', 'ZeitCoin',\n",
       "       'SwingCoin', 'SafeExchangeCoin', 'Nebuchadnezzar', 'Francs',\n",
       "       'BolivarCoin', 'Ratecoin', 'Revenu', 'Clockcoin', 'VIP Tokens',\n",
       "       'BitSend', 'Omni', 'Let it Ride', 'PutinCoin', 'iBankCoin',\n",
       "       'Frankywillcoin', 'MudraCoin', 'PizzaCoin', 'Lutetium Coin',\n",
       "       'Komodo', 'GoldBlocks', 'CarterCoin', 'Karbo', 'BitTokens',\n",
       "       'ZayedCoin', 'MustangCoin', 'ZoneCoin', 'Circuits of Value',\n",
       "       'RootCoin', 'DopeCoin', 'BitCurrency', 'DollarCoin', 'Swiscoin',\n",
       "       'Shilling', 'BuzzCoin', 'Opair', 'PesoBit', 'Halloween Coin',\n",
       "       'ZCoin', 'CoffeeCoin', 'RoyalCoin', 'GanjaCoin V2', 'TeamUP',\n",
       "       'LanaCoin', 'Elementrem', 'ZClassic', 'ARK', 'InsaneCoin',\n",
       "       'KiloCoin', 'ArtexCoin', 'EmberCoin', 'XenixCoin', 'FreeCoin',\n",
       "       'PLNCoin', 'AquariusCoin', 'Kurrent', 'Creatio', 'Eternity',\n",
       "       'Eurocoin', 'BitcoinFast', 'Stakenet', 'BitConnect Coin',\n",
       "       'MoneyCoin', 'Enigma', 'Cannabis Industry Coin', 'Russiacoin',\n",
       "       'PandaCoin', 'GameUnits', 'GAKHcoin', 'Allsafe', 'LiteCreed',\n",
       "       'OsmiumCoin', 'Bikercoins', 'HexxCoin', 'Klingon Empire Darsek',\n",
       "       'Internet of People', 'KushCoin', 'Printerium', 'PacCoin',\n",
       "       'Impeach', 'Citadel', 'Zilbercoin', 'FirstCoin', 'BeaverCoin',\n",
       "       'FindCoin', 'VaultCoin', 'Zero', 'OpenChat', 'Canada eCoin',\n",
       "       'Zoin', 'RenosCoin', 'DubaiCoin', 'VirtacoinPlus', 'TajCoin',\n",
       "       'Impact', 'EB3coin', 'Atmos', 'HappyCoin', 'Coinonat',\n",
       "       'MacronCoin', 'Condensate', 'Independent Money System',\n",
       "       'ArgusCoin', 'LomoCoin', 'ProCurrency', 'GoldReserve',\n",
       "       'BenjiRolls', 'GrowthCoin', 'ILCoin', 'Phreak', 'Degas Coin',\n",
       "       'HTML5 Coin', 'Ultimate Secure Cash', 'EquiTrader', 'QTUM',\n",
       "       'Quantum Resistant Ledger', 'Espers', 'Dynamic', 'Nano',\n",
       "       'ChanCoin', 'Dinastycoin', 'Denarius', 'DigitalPrice',\n",
       "       'Virta Unique Coin', 'Bitcoin Planet', 'Unify', 'BritCoin',\n",
       "       'SocialCoin', 'ArcticCoin', 'DAS', 'Linda', 'LeviarCoin',\n",
       "       'DeepOnion', 'Bitcore', 'gCn Coin', 'SmartCash', 'Signatum',\n",
       "       'Onix', 'Cream', 'Bitcoin Cash', 'Monoeci', 'Draftcoin', 'Vechain',\n",
       "       'Sojourn Coin', 'Stakecoin', 'NewYorkCoin', 'FrazCoin',\n",
       "       'Kronecoin', 'AdCoin', 'Linx', 'CoinonatX', 'Ethereum Dark',\n",
       "       'Sumokoin', 'Obsidian', 'Cardano', 'Regalcoin', 'BitcoinZ',\n",
       "       'TrezarCoin', 'Elements', 'TerraNovaCoin', 'VIVO Coin', 'Rupee',\n",
       "       'Bitcoin Gold', 'WomenCoin', 'Theresa May Coin', 'NamoCoin',\n",
       "       'LUXCoin', 'Pirl', 'Xios', 'Bitcloud 2.0', 'eBoost', 'KekCoin',\n",
       "       'BlackholeCoin', 'Infinity Economics', 'Pura', 'Innova', 'Ellaism',\n",
       "       'GoByte', 'Magnet', 'Lamden Tau', 'Electra', 'Bitcoin Diamond',\n",
       "       'SHIELD', 'Cash & Back Coin', 'UltraNote', 'BitCoal', 'DaxxCoin',\n",
       "       'Bulwark', 'Kalkulus', 'AC3', 'Lethean', 'GermanCoin',\n",
       "       'LiteCoin Ultra', 'PopularCoin', 'PhantomX', 'Photon', 'Sucre',\n",
       "       'SparksPay', 'Digiwage', 'GunCoin', 'IrishCoin', 'Trollcoin',\n",
       "       'Litecoin Plus', 'Monkey Project', 'Pioneer Coin', 'UnitedBitcoin',\n",
       "       'Interzone', 'TokenPay', '1717 Masonic Commemorative Token',\n",
       "       'My Big Coin', 'TurtleCoin', 'MUNcoin', 'Unified Society USDEX',\n",
       "       'Niobio Cash', 'ShareChain', 'Travelflex', 'KREDS', 'Tokyo Coin',\n",
       "       'BiblePay', 'LitecoinCash', 'BitFlip', 'LottoCoin',\n",
       "       'Crypto Improvement Fund', 'Stipend', 'Poa Network', 'Pushi',\n",
       "       'Ellerium', 'Velox', 'Ontology', 'Callisto Network', 'BitTube',\n",
       "       'Poseidon', 'Aidos Kuneen', 'Bitspace', 'Briacoin', 'Ignition',\n",
       "       'Bitrolium', 'MedicCoin', 'Alpenschillling', 'Bitcoin Green',\n",
       "       'Deviant Coin', 'Abjcoin', 'Semux', 'FuturoCoin', 'Carebit',\n",
       "       'Zealium', 'Monero Classic', 'Proton', 'iDealCash', 'Jumpcoin',\n",
       "       'Infinex', 'Bitcoin Incognito', 'KEYCO', 'HollyWoodCoin',\n",
       "       'GINcoin', 'PlatinCoin', 'Loki', 'Newton Coin', 'Swisscoin',\n",
       "       'Xt3ch', 'MassGrid', 'TheVig', 'PluraCoin', 'EmaratCoin', 'Dekado',\n",
       "       'Lynx', 'Poseidon Quark', 'BitcoinWSpectrum', 'Muse', 'Motion',\n",
       "       'PlusOneCoin', 'Axe', 'Trivechain', 'Dystem', 'Giant',\n",
       "       'Peony Coin', 'Absolute Coin', 'Vitae', 'HexCoin', 'TPCash',\n",
       "       'Webchain', 'Ryo', 'Urals Coin', 'Qwertycoin', 'ARENON', 'EUNO',\n",
       "       'MMOCoin', 'Ketan', 'Project Pai', 'XDNA', 'PAXEX', 'Azart',\n",
       "       'ThunderStake', 'Kcash', 'Xchange', 'Acute Angle Cloud',\n",
       "       'CrypticCoin', 'Bettex coin', 'Actinium', 'Bitcoin SV', 'BitMoney',\n",
       "       'Junson Ming Chan Coin', 'FREDEnergy', 'HerbCoin',\n",
       "       'Universal Molecule', 'Lithium', 'PirateCash', 'Exosis',\n",
       "       'Block-Logic', 'Oduwa', 'Beam', 'Galilel', 'Bithereum',\n",
       "       'Crypto Sports', 'Credit', 'SLICE', 'Dash Platinum', 'Nasdacoin',\n",
       "       'Beetle Coin', 'Titan Coin', 'Award', 'BLAST', 'Bitcoin Rhodium',\n",
       "       'GlobalToken', 'Insane Coin', 'ALAX', 'LiteDoge', 'SolarCoin',\n",
       "       'TruckCoin', 'UFO Coin', 'OrangeCoin', 'BlakeCoin', 'BitstarCoin',\n",
       "       'NeosCoin', 'HyperCoin', 'PinkCoin', 'Crypto Escudo', 'AudioCoin',\n",
       "       'IncaKoin', 'Piggy Coin', 'Crown Coin', 'Genstake', 'SmileyCoin',\n",
       "       'XiaoMiCoin', 'Groestlcoin', 'CapriCoin', ' ClubCoin', 'Radium',\n",
       "       'Bata', 'Pakcoin', 'Creditbit ', 'OKCash', 'Lisk', 'HiCoin',\n",
       "       'WhiteCoin', 'FriendshipCoin', 'JoinCoin', 'Triangles Coin',\n",
       "       'Vollar', 'EOS', 'Reality Clash', 'Oxycoin', 'TigerCash', 'Waves',\n",
       "       'Particl', 'BitTorrent', 'Nxt', 'ZEPHYR', 'Gapcoin', 'Beldex',\n",
       "       'Horizen', 'BitcoinPlus'], dtype=object)"
      ]
     },
     "execution_count": 34,
     "metadata": {},
     "output_type": "execute_result"
    }
   ],
   "source": [
    "# Create a new DataFrame that holds only the cryptocurrencies names.\n",
    "df_names = df['CoinName'].values\n",
    "df_names"
   ]
  },
  {
   "cell_type": "code",
   "execution_count": null,
   "metadata": {
    "scrolled": true
   },
   "outputs": [],
   "source": [
    "# Drop the 'CoinName' column since it's not going to be used on the clustering algorithm.\n",
    "df = df.drop(columns = 'CoinName')"
   ]
  },
  {
   "cell_type": "code",
   "execution_count": null,
   "metadata": {},
   "outputs": [],
   "source": [
    "df = df.drop(columns = 'Unnamed: 0')\n",
    "df.head()"
   ]
  },
  {
   "cell_type": "code",
   "execution_count": null,
   "metadata": {},
   "outputs": [],
   "source": [
    "# Use get_dummies() to create variables for text features.\n",
    "X = pd.get_dummies(df, columns=['Algorithm', 'ProofType'], dtype=float)\n",
    "X"
   ]
  },
  {
   "cell_type": "code",
   "execution_count": null,
   "metadata": {},
   "outputs": [],
   "source": [
    "# Standardize the data with StandardScaler().\n",
    "scaler=StandardScaler()\n",
    "scaled_df = scaler.fit_transform(X)"
   ]
  },
  {
   "cell_type": "markdown",
   "metadata": {},
   "source": [
    "### Deliverable 2: Reducing Data Dimensions Using PCA"
   ]
  },
  {
   "cell_type": "code",
   "execution_count": null,
   "metadata": {},
   "outputs": [],
   "source": [
    "# Using PCA to reduce dimension to three principal components.\n",
    "pca = PCA(n_components=3)\n"
   ]
  },
  {
   "cell_type": "code",
   "execution_count": 35,
   "metadata": {},
   "outputs": [
    {
     "data": {
      "text/html": [
       "<div>\n",
       "<style scoped>\n",
       "    .dataframe tbody tr th:only-of-type {\n",
       "        vertical-align: middle;\n",
       "    }\n",
       "\n",
       "    .dataframe tbody tr th {\n",
       "        vertical-align: top;\n",
       "    }\n",
       "\n",
       "    .dataframe thead th {\n",
       "        text-align: right;\n",
       "    }\n",
       "</style>\n",
       "<table border=\"1\" class=\"dataframe\">\n",
       "  <thead>\n",
       "    <tr style=\"text-align: right;\">\n",
       "      <th></th>\n",
       "      <th>PC 1</th>\n",
       "      <th>PC 2</th>\n",
       "      <th>PC 3</th>\n",
       "    </tr>\n",
       "  </thead>\n",
       "  <tbody>\n",
       "    <tr>\n",
       "      <th>42 Coin</th>\n",
       "      <td>-0.328887</td>\n",
       "      <td>0.997172</td>\n",
       "      <td>-0.620896</td>\n",
       "    </tr>\n",
       "    <tr>\n",
       "      <th>404Coin</th>\n",
       "      <td>-0.312220</td>\n",
       "      <td>0.997236</td>\n",
       "      <td>-0.621441</td>\n",
       "    </tr>\n",
       "    <tr>\n",
       "      <th>EliteCoin</th>\n",
       "      <td>2.320250</td>\n",
       "      <td>1.528785</td>\n",
       "      <td>-0.737473</td>\n",
       "    </tr>\n",
       "    <tr>\n",
       "      <th>Bitcoin</th>\n",
       "      <td>-0.144358</td>\n",
       "      <td>-1.323201</td>\n",
       "      <td>0.201174</td>\n",
       "    </tr>\n",
       "    <tr>\n",
       "      <th>Ethereum</th>\n",
       "      <td>-0.162431</td>\n",
       "      <td>-2.062860</td>\n",
       "      <td>0.407853</td>\n",
       "    </tr>\n",
       "  </tbody>\n",
       "</table>\n",
       "</div>"
      ],
      "text/plain": [
       "               PC 1      PC 2      PC 3\n",
       "42 Coin   -0.328887  0.997172 -0.620896\n",
       "404Coin   -0.312220  0.997236 -0.621441\n",
       "EliteCoin  2.320250  1.528785 -0.737473\n",
       "Bitcoin   -0.144358 -1.323201  0.201174\n",
       "Ethereum  -0.162431 -2.062860  0.407853"
      ]
     },
     "execution_count": 35,
     "metadata": {},
     "output_type": "execute_result"
    }
   ],
   "source": [
    "# Create a DataFrame with the three principal components.\n",
    "df_pca = pca.fit_transform(scaled_df)\n",
    "df_pca = pd.DataFrame(df_pca, columns=[\"PC 1\", \"PC 2\", \"PC 3\"], index=df_names)\n",
    "df_pca.head()"
   ]
  },
  {
   "cell_type": "markdown",
   "metadata": {},
   "source": [
    "### Deliverable 3: Clustering Crytocurrencies Using K-Means\n",
    "\n",
    "#### Finding the Best Value for `k` Using the Elbow Curve"
   ]
  },
  {
   "cell_type": "code",
   "execution_count": null,
   "metadata": {},
   "outputs": [],
   "source": [
    "# Create an elbow curve to find the best value for K.\n",
    "inertia = []\n",
    "k = list(range(1,11))\n",
    "\n",
    "for i in k:\n",
    "    km = KMeans(n_clusters=i, random_state=98)\n",
    "    km.fit(df_pca)\n",
    "    inertia.append(km.inertia_)\n",
    "    \n",
    "elbow_data = {'k': k, 'inertia': inertia}\n",
    "df_elbow = pd.DataFrame(elbow_data)\n",
    "df_elbow.hvplot.line(x='k', y='inertia', xticks = k, title='elbow curve')"
   ]
  },
  {
   "cell_type": "markdown",
   "metadata": {},
   "source": [
    "Running K-Means with `k=4`"
   ]
  },
  {
   "cell_type": "code",
   "execution_count": 36,
   "metadata": {},
   "outputs": [
    {
     "name": "stderr",
     "output_type": "stream",
     "text": [
      "C:\\Users\\janze\\Anaconda3\\lib\\site-packages\\sklearn\\cluster\\_kmeans.py:1332: UserWarning: KMeans is known to have a memory leak on Windows with MKL, when there are less chunks than available threads. You can avoid it by setting the environment variable OMP_NUM_THREADS=3.\n",
      "  warnings.warn(\n"
     ]
    },
    {
     "name": "stdout",
     "output_type": "stream",
     "text": [
      "[0 0 0 1 1 1 0 1 1 1 0 1 0 0 1 0 1 1 0 0 1 1 1 1 1 0 1 1 1 0 1 0 1 1 0 0 1\n",
      " 1 1 1 1 1 0 0 1 1 1 1 1 0 0 1 0 1 1 1 1 0 1 1 0 1 0 0 0 1 1 1 0 0 0 0 0 1\n",
      " 1 1 0 0 1 0 1 0 0 1 1 1 1 0 0 1 0 1 1 0 0 1 0 0 1 1 0 0 1 0 0 1 0 1 0 1 0\n",
      " 1 0 0 1 1 0 1 1 1 0 1 1 1 1 1 0 0 1 1 1 0 1 0 1 1 0 1 0 1 0 0 1 1 0 1 1 0\n",
      " 0 1 0 1 0 0 0 1 1 1 1 0 0 0 0 0 1 1 0 0 0 0 0 1 0 0 0 0 0 1 0 1 0 0 1 0 1\n",
      " 0 0 1 0 1 0 1 0 1 0 0 0 0 1 0 0 0 0 0 1 1 0 0 1 1 0 0 0 0 0 1 0 0 0 0 0 0\n",
      " 0 0 1 0 0 0 0 0 0 1 1 1 0 0 0 0 1 0 1 0 0 1 0 1 1 0 1 1 0 1 0 0 0 1 0 0 1\n",
      " 0 0 0 0 0 0 0 1 0 1 0 0 0 0 1 0 1 0 1 1 1 1 0 1 0 0 1 0 1 1 1 0 1 0 1 1 1\n",
      " 0 1 0 1 0 0 3 1 0 1 1 1 1 1 0 0 1 0 0 0 1 0 1 0 1 0 1 0 0 0 0 1 0 0 1 0 0\n",
      " 0 1 1 1 1 0 0 0 0 1 0 1 1 1 0 0 1 1 0 0 1 0 1 1 1 0 1 1 0 0 0 1 1 1 0 0 0\n",
      " 1 1 0 1 1 1 1 0 3 3 1 1 1 0 3 0 0 0 0 1 1 1 1 0 0 0 1 0 1 0 0 0 0 1 0 0 1\n",
      " 0 0 1 1 0 1 0 1 1 1 1 0 0 1 0 1 0 0 0 0 0 0 1 1 1 0 0 0 0 0 0 1 0 1 1 1 1\n",
      " 0 0 0 0 1 0 0 1 0 0 1 3 1 0 1 1 0 0 1 0 1 1 0 1 1 0 1 0 1 0 0 1 0 0 0 0 0\n",
      " 1 1 1 0 0 0 1 0 1 0 1 0 0 0 0 1 0 0 0 1 0 1 0 1 0 0 0 1 1 0 0 0 0 0 0 1 0\n",
      " 1 0 1 0 0 3 0 2 0 0 0 1 1 0]\n"
     ]
    }
   ],
   "source": [
    "# Initialize the K-Means model.\n",
    "model = KMeans(n_clusters=4, random_state=98)\n",
    "\n",
    "# Fit the model\n",
    "model.fit(df_pca)\n",
    "\n",
    "# Predict clusters\n",
    "predictions = model.predict(df_pca)\n",
    "print(predictions)"
   ]
  },
  {
   "cell_type": "code",
   "execution_count": null,
   "metadata": {},
   "outputs": [],
   "source": [
    "# Create a new DataFrame including predicted clusters and cryptocurrencies features.\n",
    "# Concatentate the crypto_df and pcs_df DataFrames on the same columns.\n",
    "# YOUR CODE HERE\n",
    "\n",
    "#  Add a new column, \"CoinName\" to the clustered_df DataFrame that holds the names of the cryptocurrencies. \n",
    "# YOUR CODE HERE\n",
    "\n",
    "#  Add a new column, \"Class\" to the clustered_df DataFrame that holds the predictions.\n",
    "# YOUR CODE HERE\n",
    "\n",
    "# Print the shape of the clustered_df\n",
    "print(clustered_df.shape)\n",
    "clustered_df.head(10)"
   ]
  },
  {
   "cell_type": "markdown",
   "metadata": {},
   "source": [
    "### Deliverable 4: Visualizing Cryptocurrencies Results\n",
    "\n",
    "#### 3D-Scatter with Clusters"
   ]
  },
  {
   "cell_type": "code",
   "execution_count": null,
   "metadata": {},
   "outputs": [],
   "source": [
    "# Creating a 3D-Scatter with the PCA data and the clusters\n",
    "# YOUR CODE HERE\n"
   ]
  },
  {
   "cell_type": "code",
   "execution_count": null,
   "metadata": {},
   "outputs": [],
   "source": [
    "# Create a table with tradable cryptocurrencies.\n",
    "# YOUR CODE HERE"
   ]
  },
  {
   "cell_type": "code",
   "execution_count": null,
   "metadata": {},
   "outputs": [],
   "source": [
    "# Print the total number of tradable cryptocurrencies.\n",
    "# YOUR CODE HERE"
   ]
  },
  {
   "cell_type": "code",
   "execution_count": null,
   "metadata": {},
   "outputs": [],
   "source": [
    "# Scaling data to create the scatter plot with tradable cryptocurrencies.\n",
    "# YOUR CODE HERE"
   ]
  },
  {
   "cell_type": "code",
   "execution_count": null,
   "metadata": {},
   "outputs": [],
   "source": [
    "# Create a new DataFrame that has the scaled data with the clustered_df DataFrame index.\n",
    "# YOUR CODE HERE\n",
    "\n",
    "# Add the \"CoinName\" column from the clustered_df DataFrame to the new DataFrame.\n",
    "# YOUR CODE HERE\n",
    "\n",
    "# Add the \"Class\" column from the clustered_df DataFrame to the new DataFrame. \n",
    "# YOUR CODE HERE\n",
    "\n",
    "plot_df.head(10)"
   ]
  },
  {
   "cell_type": "code",
   "execution_count": null,
   "metadata": {},
   "outputs": [],
   "source": [
    "# Create a hvplot.scatter plot using x=\"TotalCoinsMined\" and y=\"TotalCoinSupply\".\n",
    "# YOUR CODE HERE\n"
   ]
  },
  {
   "cell_type": "code",
   "execution_count": null,
   "metadata": {},
   "outputs": [],
   "source": []
  }
 ],
 "metadata": {
  "file_extension": ".py",
  "kernelspec": {
   "display_name": "Python 3 (ipykernel)",
   "language": "python",
   "name": "python3"
  },
  "language_info": {
   "codemirror_mode": {
    "name": "ipython",
    "version": 3
   },
   "file_extension": ".py",
   "mimetype": "text/x-python",
   "name": "python",
   "nbconvert_exporter": "python",
   "pygments_lexer": "ipython3",
   "version": "3.9.12"
  },
  "latex_envs": {
   "LaTeX_envs_menu_present": true,
   "autoclose": false,
   "autocomplete": true,
   "bibliofile": "biblio.bib",
   "cite_by": "apalike",
   "current_citInitial": 1,
   "eqLabelWithNumbers": true,
   "eqNumInitial": 1,
   "hotkeys": {
    "equation": "Ctrl-E",
    "itemize": "Ctrl-I"
   },
   "labels_anchors": false,
   "latex_user_defs": false,
   "report_style_numbering": false,
   "user_envs_cfg": false
  },
  "mimetype": "text/x-python",
  "name": "python",
  "npconvert_exporter": "python",
  "pygments_lexer": "ipython3",
  "version": 3
 },
 "nbformat": 4,
 "nbformat_minor": 2
}
